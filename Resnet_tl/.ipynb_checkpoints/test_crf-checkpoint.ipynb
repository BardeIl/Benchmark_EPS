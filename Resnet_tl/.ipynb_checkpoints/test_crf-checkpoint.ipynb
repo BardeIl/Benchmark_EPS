{
 "cells": [
  {
   "cell_type": "code",
   "execution_count": 1,
   "metadata": {
    "collapsed": true
   },
   "outputs": [],
   "source": [
    "import tensorflow as tf\n",
    "import numpy as np\n",
    "import os\n",
    "\n",
    "from __future__ import division\n",
    "import os\n",
    "import time\n",
    "from glob import glob\n",
    "import tensorflow as tf\n",
    "import tensorlayer as tl\n",
    "from tensorlayer.layers import *\n",
    "import numpy as np\n",
    "from six.moves import xrange\n",
    "from collections import namedtuple\n",
    "from skimage.measure import compare_ssim as ssim\n",
    "from skimage.measure import compare_psnr as psnr\n",
    "from skimage import  color\n",
    "import random\n",
    "import scipy.misc\n",
    "import utils2 as util\n",
    "import scipy.io as sio\n",
    "import matplotlib.pyplot  as plt\n",
    "%matplotlib inline\n",
    "os.environ[\"CUDA_DEVICE_ORDER\"]=\"PCI_BUS_ID\"   \n",
    "os.environ[\"CUDA_VISIBLE_DEVICES\"]=\"0\"\n",
    "\n"
   ]
  },
  {
   "cell_type": "code",
   "execution_count": null,
   "metadata": {
    "collapsed": false,
    "scrolled": true
   },
   "outputs": [
    {
     "name": "stdout",
     "output_type": "stream",
     "text": [
      "INFO:tensorflow:Restoring parameters from checkpoint_CRF_backup/model-210002\n"
     ]
    },
    {
     "name": "stderr",
     "output_type": "stream",
     "text": [
      "INFO:tensorflow:Restoring parameters from checkpoint_CRF_backup/model-210002\n"
     ]
    },
    {
     "name": "stdout",
     "output_type": "stream",
     "text": [
      "401\n",
      "INFO:tensorflow:Restoring parameters from checkpoint_CRF_backup/model-210002\n"
     ]
    },
    {
     "name": "stderr",
     "output_type": "stream",
     "text": [
      "INFO:tensorflow:Restoring parameters from checkpoint_CRF_backup/model-210002\n"
     ]
    },
    {
     "name": "stdout",
     "output_type": "stream",
     "text": [
      "402\n",
      "INFO:tensorflow:Restoring parameters from checkpoint_CRF_backup/model-210002\n"
     ]
    },
    {
     "name": "stderr",
     "output_type": "stream",
     "text": [
      "INFO:tensorflow:Restoring parameters from checkpoint_CRF_backup/model-210002\n"
     ]
    },
    {
     "name": "stdout",
     "output_type": "stream",
     "text": [
      "403\n",
      "INFO:tensorflow:Restoring parameters from checkpoint_CRF_backup/model-210002\n"
     ]
    },
    {
     "name": "stderr",
     "output_type": "stream",
     "text": [
      "INFO:tensorflow:Restoring parameters from checkpoint_CRF_backup/model-210002\n"
     ]
    },
    {
     "name": "stdout",
     "output_type": "stream",
     "text": [
      "404\n",
      "INFO:tensorflow:Restoring parameters from checkpoint_CRF_backup/model-210002\n"
     ]
    },
    {
     "name": "stderr",
     "output_type": "stream",
     "text": [
      "INFO:tensorflow:Restoring parameters from checkpoint_CRF_backup/model-210002\n"
     ]
    }
   ],
   "source": [
    "from module import SRGAN_g_CRF\n",
    "\n",
    "temp=sio.loadmat('../data/weight_matrix.mat')\n",
    "weight_matrix=temp['weight_matrix']\n",
    "\n",
    "iteration=210002\n",
    "test_total_mae1=0.0\n",
    "test_total_mae2=0.0\n",
    "\n",
    "for i in range(401,500+1):\n",
    "    im = scipy.misc.imread('../data/origin_images/%.4d.png' % (i))\n",
    "    im = np.float32(im)\n",
    "    batch_images=[im]  \n",
    "\n",
    "    tf.reset_default_graph()\n",
    "    tl.layers.clear_layers_name()\n",
    "    test_x = tf.placeholder(tf.float32, shape=[1, im.shape[0], im.shape[1], im.shape[2]], name=\"test_X\")\n",
    "    test_x_scale=test_x/127.5-1\n",
    "    srgan_output,crf_output,srgan_saver  = SRGAN_g_CRF(test_x_scale,is_train= False, reuse=False)    \n",
    "    sess=tf.Session()\n",
    "    saver = tf.train.Saver()\n",
    "    saver.restore(sess, 'checkpoint_CRF/model-%d' % (iteration))\n",
    "\n",
    "    [srgan_eval, crf_eval]= sess.run([srgan_output,crf_output],feed_dict={test_x: batch_images}) \n",
    "\n",
    "    im_out1=(np.float64(srgan_eval[0])+1)/2*255\n",
    "    im_out1[im_out1>255]=255\n",
    "    im_out1[im_out1<0]=0\n",
    "    im_out2=(np.float64(crf_eval[0])+1)/2*255\n",
    "    im_out2[im_out2>255]=255\n",
    "    im_out2[im_out2<0]=0\n",
    "    \n",
    "    im_groundtruth1 = scipy.misc.imread('../data/gt_images/%.4d_1.png' % (i))\n",
    "    im_groundtruth1 = np.float64(im_groundtruth1)\n",
    "    im_groundtruth2 = scipy.misc.imread('../data/gt_images/%.4d_2.png' % (i))\n",
    "    im_groundtruth2 = np.float64(im_groundtruth2)\n",
    "    im_groundtruth3 = scipy.misc.imread('../data/gt_images/%.4d_3.png' % (i))\n",
    "    im_groundtruth3 = np.float64(im_groundtruth3)\n",
    "    im_groundtruth4 = scipy.misc.imread('../data/gt_images/%.4d_4.png' % (i))\n",
    "    im_groundtruth4 = np.float64(im_groundtruth4)\n",
    "    im_groundtruth5 = scipy.misc.imread('../data/gt_images/%.4d_5.png' % (i))\n",
    "    im_groundtruth5 = np.float64(im_groundtruth5)\n",
    "    \n",
    "    image_mae = np.mean(np.abs(im_out1-im_groundtruth1))*weight_matrix[i-1,0] \\\n",
    "                +np.mean(np.abs(im_out1-im_groundtruth2))*weight_matrix[i-1,1] \\\n",
    "                +np.mean(np.abs(im_out1-im_groundtruth3))*weight_matrix[i-1,2] \\\n",
    "                +np.mean(np.abs(im_out1-im_groundtruth4))*weight_matrix[i-1,3] \\\n",
    "                +np.mean(np.abs(im_out1-im_groundtruth5))*weight_matrix[i-1,4] \n",
    "    test_total_mae1=test_total_mae1 + image_mae\n",
    "    \n",
    "    image_mae = np.mean(np.abs(im_out2-im_groundtruth1))*weight_matrix[i-1,0] \\\n",
    "                +np.mean(np.abs(im_out2-im_groundtruth2))*weight_matrix[i-1,1] \\\n",
    "                +np.mean(np.abs(im_out2-im_groundtruth3))*weight_matrix[i-1,2] \\\n",
    "                +np.mean(np.abs(im_out2-im_groundtruth4))*weight_matrix[i-1,3] \\\n",
    "                +np.mean(np.abs(im_out2-im_groundtruth5))*weight_matrix[i-1,4] \n",
    "    test_total_mae2=test_total_mae2 + image_mae\n",
    "    if np.mod(i,100) ==1:\n",
    "        path='%s/%.7d_%.4d.png' % (\"sample_CRF\",iteration,i)\n",
    "        im_out=np.concatenate((im_groundtruth1,im_out1,im_out2),axis=1)\n",
    "        scipy.misc.imsave(path,im_out)\n",
    "    print i\n",
    "print 'test MAE1: %.3f, test MAE2: %.3f' % (test_total_mae1/100,test_total_mae2/100)\n"
   ]
  },
  {
   "cell_type": "code",
   "execution_count": 14,
   "metadata": {
    "collapsed": false
   },
   "outputs": [
    {
     "data": {
      "text/plain": [
       "<matplotlib.image.AxesImage at 0x7f053adbc850>"
      ]
     },
     "execution_count": 14,
     "metadata": {},
     "output_type": "execute_result"
    },
    {
     "data": {
      "image/png": "[encoded data removed]",
      "text/plain": [
       "<matplotlib.figure.Figure at 0x7f05517f36d0>"
      ]
     },
     "metadata": {},
     "output_type": "display_data"
    }
   ],
   "source": [
    "plt.imshow(np.uint8(im_out2))"
   ]
  },
  {
   "cell_type": "code",
   "execution_count": 16,
   "metadata": {
    "collapsed": false
   },
   "outputs": [
    {
     "data": {
      "text/plain": [
       "array([[[ 1.,  1.,  1.],\n",
       "        [ 1.,  1.,  1.],\n",
       "        [ 1.,  1.,  1.],\n",
       "        ..., \n",
       "        [ 1.,  1.,  1.],\n",
       "        [ 1.,  1.,  1.],\n",
       "        [ 1.,  1.,  1.]],\n",
       "\n",
       "       [[ 1.,  1.,  1.],\n",
       "        [ 1.,  1.,  1.],\n",
       "        [ 1.,  1.,  1.],\n",
       "        ..., \n",
       "        [ 1.,  1.,  1.],\n",
       "        [ 1.,  1.,  1.],\n",
       "        [ 1.,  1.,  1.]],\n",
       "\n",
       "       [[ 1.,  1.,  1.],\n",
       "        [ 1.,  1.,  1.],\n",
       "        [ 1.,  1.,  1.],\n",
       "        ..., \n",
       "        [ 1.,  1.,  1.],\n",
       "        [ 1.,  1.,  1.],\n",
       "        [ 1.,  1.,  1.]],\n",
       "\n",
       "       ..., \n",
       "       [[ 1.,  1.,  1.],\n",
       "        [ 1.,  1.,  1.],\n",
       "        [ 1.,  1.,  1.],\n",
       "        ..., \n",
       "        [ 1.,  1.,  1.],\n",
       "        [ 1.,  1.,  1.],\n",
       "        [ 1.,  1.,  1.]],\n",
       "\n",
       "       [[ 1.,  1.,  1.],\n",
       "        [ 1.,  1.,  1.],\n",
       "        [ 1.,  1.,  1.],\n",
       "        ..., \n",
       "        [ 1.,  1.,  1.],\n",
       "        [ 1.,  1.,  1.],\n",
       "        [ 1.,  1.,  1.]],\n",
       "\n",
       "       [[ 1.,  1.,  1.],\n",
       "        [ 1.,  1.,  1.],\n",
       "        [ 1.,  1.,  1.],\n",
       "        ..., \n",
       "        [ 1.,  1.,  1.],\n",
       "        [ 1.,  1.,  1.],\n",
       "        [ 1.,  1.,  1.]]], dtype=float32)"
      ]
     },
     "execution_count": 16,
     "metadata": {},
     "output_type": "execute_result"
    }
   ],
   "source": []
  },
  {
   "cell_type": "code",
   "execution_count": 13,
   "metadata": {
    "collapsed": true
   },
   "outputs": [],
   "source": [
    "tf.reset_default_graph()\n",
    "tl.layers.clear_layers_name()\n",
    "test_input = tf.placeholder(tf.float32,[1, 100, 100,3], name='test')\n",
    "test_input_scale=test_input/127.5-1\n",
    "test_output=SRGAN_g_CRF(test_input_scale,is_train=False,reuse=False)"
   ]
  },
  {
   "cell_type": "code",
   "execution_count": 13,
   "metadata": {
    "collapsed": false
   },
   "outputs": [
    {
     "name": "stdout",
     "output_type": "stream",
     "text": [
      "[ 0.07190754 -0.01388833  0.00830193  0.02721014  0.04202126  0.05541564\n",
      " -0.055369    0.02530156 -0.0376242  -0.02243672 -0.02818392  0.00502082\n",
      " -0.00715612  0.01275196 -0.0250958   0.01245518  0.01038119  0.00768788\n",
      " -0.01932275 -0.00797115  0.04963176  0.00416986 -0.00304782  0.02490599\n",
      " -0.01321271  0.03240202  0.03808201  0.05495793  0.06097368  0.02068183\n",
      " -0.02300189  0.03532681 -0.00504456  0.01367789  0.01407418  0.05011045\n",
      "  0.02842516 -0.00448147  0.07120206  0.10096594  0.07890864 -0.01357723\n",
      " -0.00278922  0.00656107  0.01330158  0.05021842 -0.018883   -0.04358904\n",
      " -0.02396531  0.0236055   0.00955685 -0.0224888   0.06264124  0.03425434\n",
      " -0.0014141  -0.01154267  0.07886491  0.01280966  0.01091483  0.06314955\n",
      " -0.00074095  0.00407678 -0.01208074 -0.01293026]\n"
     ]
    }
   ],
   "source": [
    "print sess.run(t_vars[1])"
   ]
  },
  {
   "cell_type": "code",
   "execution_count": 11,
   "metadata": {
    "collapsed": false
   },
   "outputs": [
    {
     "name": "stdout",
     "output_type": "stream",
     "text": [
      "SRGAN_g/n64s1/c/W_conv2d:0\n",
      "SRGAN_g/n64s1/c/b_conv2d:0\n",
      "SRGAN_g/n64s1/c1/0/W_conv2d:0\n",
      "SRGAN_g/n64s1/c2/0/W_conv2d:0\n",
      "SRGAN_g/n64s1/c1/1/W_conv2d:0\n",
      "SRGAN_g/n64s1/c2/1/W_conv2d:0\n",
      "SRGAN_g/n64s1/c1/2/W_conv2d:0\n",
      "SRGAN_g/n64s1/c2/2/W_conv2d:0\n",
      "SRGAN_g/n64s1/c1/3/W_conv2d:0\n",
      "SRGAN_g/n64s1/c2/3/W_conv2d:0\n",
      "SRGAN_g/n64s1/c1/4/W_conv2d:0\n",
      "SRGAN_g/n64s1/c2/4/W_conv2d:0\n",
      "SRGAN_g/n64s1/c1/5/W_conv2d:0\n",
      "SRGAN_g/n64s1/c2/5/W_conv2d:0\n",
      "SRGAN_g/n64s1/c1/6/W_conv2d:0\n",
      "SRGAN_g/n64s1/c2/6/W_conv2d:0\n",
      "SRGAN_g/n64s1/c1/7/W_conv2d:0\n",
      "SRGAN_g/n64s1/c2/7/W_conv2d:0\n",
      "SRGAN_g/n64s1/c1/8/W_conv2d:0\n",
      "SRGAN_g/n64s1/c2/8/W_conv2d:0\n",
      "SRGAN_g/n64s1/c1/9/W_conv2d:0\n",
      "SRGAN_g/n64s1/c2/9/W_conv2d:0\n",
      "SRGAN_g/n64s1/c1/10/W_conv2d:0\n",
      "SRGAN_g/n64s1/c2/10/W_conv2d:0\n",
      "SRGAN_g/n64s1/c1/11/W_conv2d:0\n",
      "SRGAN_g/n64s1/c2/11/W_conv2d:0\n",
      "SRGAN_g/n64s1/c1/12/W_conv2d:0\n",
      "SRGAN_g/n64s1/c2/12/W_conv2d:0\n",
      "SRGAN_g/n64s1/c1/13/W_conv2d:0\n",
      "SRGAN_g/n64s1/c2/13/W_conv2d:0\n",
      "SRGAN_g/n64s1/c1/14/W_conv2d:0\n",
      "SRGAN_g/n64s1/c2/14/W_conv2d:0\n",
      "SRGAN_g/n64s1/c1/15/W_conv2d:0\n",
      "SRGAN_g/n64s1/c2/15/W_conv2d:0\n",
      "SRGAN_g/n64s1/c/m/W_conv2d:0\n",
      "SRGAN_g/n256s1/1/W_conv2d:0\n",
      "SRGAN_g/n256s1/1/b_conv2d:0\n",
      "SRGAN_g/n256s1/2/W_conv2d:0\n",
      "SRGAN_g/n256s1/2/b_conv2d:0\n",
      "SRGAN_g/out/W_conv2d:0\n",
      "SRGAN_g/out/b_conv2d:0\n",
      "SRGAN_g/crfrnn/spatial_ker_weights:0\n",
      "SRGAN_g/crfrnn/bilateral_ker_weights:0\n",
      "SRGAN_g/crfrnn/compatibility_matrix:0\n",
      "SRGAN_g/crfrnn_my_w:0\n",
      "SRGAN_g/crfrnn_my_b:0\n"
     ]
    }
   ],
   "source": [
    "t_vars= tf.trainable_variables()\n",
    "for var in t_vars:\n",
    "    print var.name\n",
    "    \n"
   ]
  },
  {
   "cell_type": "code",
   "execution_count": 11,
   "metadata": {
    "collapsed": false
   },
   "outputs": [
    {
     "data": {
      "text/plain": [
       "5"
      ]
     },
     "execution_count": 11,
     "metadata": {},
     "output_type": "execute_result"
    }
   ],
   "source": [
    "crf_var = [var for var in t_vars if 'crfrnn' in var.name] \n",
    "len(crf_var)"
   ]
  },
  {
   "cell_type": "code",
   "execution_count": 13,
   "metadata": {
    "collapsed": false
   },
   "outputs": [
    {
     "data": {
      "text/plain": [
       "[<tf.Variable 'SRGAN_g/n64s1/c/b_conv2d:0' shape=(64,) dtype=float32_ref>,\n",
       " <tf.Variable 'SRGAN_g/n64s1/c1/8/W_conv2d:0' shape=(3, 3, 64, 64) dtype=float32_ref>,\n",
       " <tf.Variable 'SRGAN_g/n64s1/c1/0/W_conv2d:0' shape=(3, 3, 64, 64) dtype=float32_ref>,\n",
       " <tf.Variable 'SRGAN_g/n64s1/c1/5/W_conv2d:0' shape=(3, 3, 64, 64) dtype=float32_ref>,\n",
       " <tf.Variable 'SRGAN_g/n64s1/c1/4/W_conv2d:0' shape=(3, 3, 64, 64) dtype=float32_ref>,\n",
       " <tf.Variable 'SRGAN_g/n64s1/c1/3/W_conv2d:0' shape=(3, 3, 64, 64) dtype=float32_ref>,\n",
       " <tf.Variable 'SRGAN_g/n64s1/c2/8/W_conv2d:0' shape=(3, 3, 64, 64) dtype=float32_ref>,\n",
       " <tf.Variable 'SRGAN_g/n64s1/c1/2/W_conv2d:0' shape=(3, 3, 64, 64) dtype=float32_ref>,\n",
       " <tf.Variable 'SRGAN_g/n64s1/c1/15/W_conv2d:0' shape=(3, 3, 64, 64) dtype=float32_ref>,\n",
       " <tf.Variable 'SRGAN_g/n64s1/c1/11/W_conv2d:0' shape=(3, 3, 64, 64) dtype=float32_ref>,\n",
       " <tf.Variable 'SRGAN_g/n64s1/c1/6/W_conv2d:0' shape=(3, 3, 64, 64) dtype=float32_ref>,\n",
       " <tf.Variable 'SRGAN_g/n64s1/c2/9/W_conv2d:0' shape=(3, 3, 64, 64) dtype=float32_ref>,\n",
       " <tf.Variable 'SRGAN_g/n64s1/c2/13/W_conv2d:0' shape=(3, 3, 64, 64) dtype=float32_ref>,\n",
       " <tf.Variable 'SRGAN_g/n64s1/c2/5/W_conv2d:0' shape=(3, 3, 64, 64) dtype=float32_ref>,\n",
       " <tf.Variable 'SRGAN_g/n64s1/c1/7/W_conv2d:0' shape=(3, 3, 64, 64) dtype=float32_ref>,\n",
       " <tf.Variable 'SRGAN_g/n256s1/2/W_conv2d:0' shape=(3, 3, 256, 256) dtype=float32_ref>,\n",
       " <tf.Variable 'SRGAN_g/n64s1/c2/7/W_conv2d:0' shape=(3, 3, 64, 64) dtype=float32_ref>,\n",
       " <tf.Variable 'SRGAN_g/n256s1/2/b_conv2d:0' shape=(256,) dtype=float32_ref>,\n",
       " <tf.Variable 'SRGAN_g/n64s1/c2/0/W_conv2d:0' shape=(3, 3, 64, 64) dtype=float32_ref>,\n",
       " <tf.Variable 'SRGAN_g/n64s1/c2/2/W_conv2d:0' shape=(3, 3, 64, 64) dtype=float32_ref>,\n",
       " <tf.Variable 'SRGAN_g/n64s1/c1/9/W_conv2d:0' shape=(3, 3, 64, 64) dtype=float32_ref>,\n",
       " <tf.Variable 'SRGAN_g/n64s1/c2/1/W_conv2d:0' shape=(3, 3, 64, 64) dtype=float32_ref>,\n",
       " <tf.Variable 'SRGAN_g/n64s1/c1/12/W_conv2d:0' shape=(3, 3, 64, 64) dtype=float32_ref>,\n",
       " <tf.Variable 'SRGAN_g/n64s1/c1/1/W_conv2d:0' shape=(3, 3, 64, 64) dtype=float32_ref>,\n",
       " <tf.Variable 'SRGAN_g/n64s1/c1/13/W_conv2d:0' shape=(3, 3, 64, 64) dtype=float32_ref>,\n",
       " <tf.Variable 'SRGAN_g/n64s1/c2/10/W_conv2d:0' shape=(3, 3, 64, 64) dtype=float32_ref>,\n",
       " <tf.Variable 'SRGAN_g/n64s1/c1/10/W_conv2d:0' shape=(3, 3, 64, 64) dtype=float32_ref>,\n",
       " <tf.Variable 'SRGAN_g/n64s1/c2/3/W_conv2d:0' shape=(3, 3, 64, 64) dtype=float32_ref>,\n",
       " <tf.Variable 'SRGAN_g/n256s1/1/b_conv2d:0' shape=(256,) dtype=float32_ref>,\n",
       " <tf.Variable 'SRGAN_g/n64s1/c2/15/W_conv2d:0' shape=(3, 3, 64, 64) dtype=float32_ref>,\n",
       " <tf.Variable 'SRGAN_g/n64s1/c2/6/W_conv2d:0' shape=(3, 3, 64, 64) dtype=float32_ref>,\n",
       " <tf.Variable 'SRGAN_g/n64s1/c2/11/W_conv2d:0' shape=(3, 3, 64, 64) dtype=float32_ref>,\n",
       " <tf.Variable 'SRGAN_g/n64s1/c2/4/W_conv2d:0' shape=(3, 3, 64, 64) dtype=float32_ref>,\n",
       " <tf.Variable 'SRGAN_g/out/W_conv2d:0' shape=(1, 1, 256, 3) dtype=float32_ref>,\n",
       " <tf.Variable 'SRGAN_g/n64s1/c/m/W_conv2d:0' shape=(3, 3, 64, 64) dtype=float32_ref>,\n",
       " <tf.Variable 'SRGAN_g/n64s1/c2/12/W_conv2d:0' shape=(3, 3, 64, 64) dtype=float32_ref>,\n",
       " <tf.Variable 'SRGAN_g/n64s1/c2/14/W_conv2d:0' shape=(3, 3, 64, 64) dtype=float32_ref>,\n",
       " <tf.Variable 'SRGAN_g/n64s1/c/W_conv2d:0' shape=(3, 3, 3, 64) dtype=float32_ref>,\n",
       " <tf.Variable 'SRGAN_g/n64s1/c1/14/W_conv2d:0' shape=(3, 3, 64, 64) dtype=float32_ref>,\n",
       " <tf.Variable 'SRGAN_g/n256s1/1/W_conv2d:0' shape=(3, 3, 64, 256) dtype=float32_ref>,\n",
       " <tf.Variable 'SRGAN_g/out/b_conv2d:0' shape=(3,) dtype=float32_ref>]"
      ]
     },
     "execution_count": 13,
     "metadata": {},
     "output_type": "execute_result"
    }
   ],
   "source": [
    "srgan_var= list(set(t_vars).difference(set(crf_var)))\n",
    "srgan_var"
   ]
  },
  {
   "cell_type": "code",
   "execution_count": 12,
   "metadata": {
    "collapsed": false
   },
   "outputs": [
    {
     "data": {
      "text/plain": [
       "46"
      ]
     },
     "execution_count": 12,
     "metadata": {},
     "output_type": "execute_result"
    }
   ],
   "source": [
    "len(t_vars)"
   ]
  }
 ],
 "metadata": {
  "kernelspec": {
   "display_name": "Python 2",
   "language": "python",
   "name": "python2"
  },
  "language_info": {
   "codemirror_mode": {
    "name": "ipython",
    "version": 2
   },
   "file_extension": ".py",
   "mimetype": "text/x-python",
   "name": "python",
   "nbconvert_exporter": "python",
   "pygments_lexer": "ipython2",
   "version": "2.7.8"
  }
 },
 "nbformat": 4,
 "nbformat_minor": 0
}
