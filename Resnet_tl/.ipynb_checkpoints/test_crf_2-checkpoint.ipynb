{
 "cells": [
  {
   "cell_type": "code",
   "execution_count": 1,
   "metadata": {
    "collapsed": true
   },
   "outputs": [],
   "source": [
    "import tensorflow as tf\n",
    "import numpy as np\n",
    "import os\n",
    "\n",
    "from __future__ import division\n",
    "import os\n",
    "import time\n",
    "from glob import glob\n",
    "import tensorflow as tf\n",
    "import tensorlayer as tl\n",
    "from tensorlayer.layers import *\n",
    "import numpy as np\n",
    "from six.moves import xrange\n",
    "from collections import namedtuple\n",
    "from skimage.measure import compare_ssim as ssim\n",
    "from skimage.measure import compare_psnr as psnr\n",
    "from skimage import  color\n",
    "import random\n",
    "import scipy.misc\n",
    "import utils2 as util\n",
    "import scipy.io as sio\n",
    "import matplotlib.pyplot  as plt\n",
    "%matplotlib inline\n",
    "os.environ[\"CUDA_DEVICE_ORDER\"]=\"PCI_BUS_ID\"   \n",
    "os.environ[\"CUDA_VISIBLE_DEVICES\"]=\"1\"\n",
    "\n"
   ]
  },
  {
   "cell_type": "code",
   "execution_count": 2,
   "metadata": {
    "collapsed": false
   },
   "outputs": [
    {
     "data": {
      "text/plain": [
       "1"
      ]
     },
     "execution_count": 2,
     "metadata": {},
     "output_type": "execute_result"
    }
   ],
   "source": [
    "\n",
    "a=tf.constant(1)\n",
    "sess=tf.Session()\n",
    "sess.run(a)\n"
   ]
  },
  {
   "cell_type": "code",
   "execution_count": 2,
   "metadata": {
    "collapsed": false,
    "scrolled": true
   },
   "outputs": [
    {
     "name": "stdout",
     "output_type": "stream",
     "text": [
      "INFO:tensorflow:Restoring parameters from checkpoint_CRF_2/model-350002\n"
     ]
    },
    {
     "name": "stderr",
     "output_type": "stream",
     "text": [
      "Using TensorFlow backend.\n",
      "INFO:tensorflow:Restoring parameters from checkpoint_CRF_2/model-350002\n"
     ]
    },
    {
     "name": "stdout",
     "output_type": "stream",
     "text": [
      "401\n",
      "INFO:tensorflow:Restoring parameters from checkpoint_CRF_2/model-350002\n"
     ]
    },
    {
     "name": "stderr",
     "output_type": "stream",
     "text": [
      "INFO:tensorflow:Restoring parameters from checkpoint_CRF_2/model-350002\n"
     ]
    },
    {
     "name": "stdout",
     "output_type": "stream",
     "text": [
      "402\n",
      "INFO:tensorflow:Restoring parameters from checkpoint_CRF_2/model-350002\n"
     ]
    },
    {
     "name": "stderr",
     "output_type": "stream",
     "text": [
      "INFO:tensorflow:Restoring parameters from checkpoint_CRF_2/model-350002\n"
     ]
    },
    {
     "name": "stdout",
     "output_type": "stream",
     "text": [
      "403\n",
      "INFO:tensorflow:Restoring parameters from checkpoint_CRF_2/model-350002\n"
     ]
    },
    {
     "name": "stderr",
     "output_type": "stream",
     "text": [
      "INFO:tensorflow:Restoring parameters from checkpoint_CRF_2/model-350002\n"
     ]
    },
    {
     "name": "stdout",
     "output_type": "stream",
     "text": [
      "404\n",
      "INFO:tensorflow:Restoring parameters from checkpoint_CRF_2/model-350002\n"
     ]
    },
    {
     "name": "stderr",
     "output_type": "stream",
     "text": [
      "INFO:tensorflow:Restoring parameters from checkpoint_CRF_2/model-350002\n"
     ]
    },
    {
     "name": "stdout",
     "output_type": "stream",
     "text": [
      "405\n",
      "INFO:tensorflow:Restoring parameters from checkpoint_CRF_2/model-350002\n"
     ]
    },
    {
     "name": "stderr",
     "output_type": "stream",
     "text": [
      "INFO:tensorflow:Restoring parameters from checkpoint_CRF_2/model-350002\n"
     ]
    },
    {
     "name": "stdout",
     "output_type": "stream",
     "text": [
      "406\n",
      "INFO:tensorflow:Restoring parameters from checkpoint_CRF_2/model-350002\n"
     ]
    },
    {
     "name": "stderr",
     "output_type": "stream",
     "text": [
      "INFO:tensorflow:Restoring parameters from checkpoint_CRF_2/model-350002\n"
     ]
    },
    {
     "name": "stdout",
     "output_type": "stream",
     "text": [
      "407\n",
      "INFO:tensorflow:Restoring parameters from checkpoint_CRF_2/model-350002\n"
     ]
    },
    {
     "name": "stderr",
     "output_type": "stream",
     "text": [
      "INFO:tensorflow:Restoring parameters from checkpoint_CRF_2/model-350002\n"
     ]
    },
    {
     "name": "stdout",
     "output_type": "stream",
     "text": [
      "408\n",
      "INFO:tensorflow:Restoring parameters from checkpoint_CRF_2/model-350002\n"
     ]
    },
    {
     "name": "stderr",
     "output_type": "stream",
     "text": [
      "INFO:tensorflow:Restoring parameters from checkpoint_CRF_2/model-350002\n"
     ]
    },
    {
     "name": "stdout",
     "output_type": "stream",
     "text": [
      "409\n",
      "INFO:tensorflow:Restoring parameters from checkpoint_CRF_2/model-350002\n"
     ]
    },
    {
     "name": "stderr",
     "output_type": "stream",
     "text": [
      "INFO:tensorflow:Restoring parameters from checkpoint_CRF_2/model-350002\n"
     ]
    },
    {
     "name": "stdout",
     "output_type": "stream",
     "text": [
      "410\n",
      "INFO:tensorflow:Restoring parameters from checkpoint_CRF_2/model-350002\n"
     ]
    },
    {
     "name": "stderr",
     "output_type": "stream",
     "text": [
      "INFO:tensorflow:Restoring parameters from checkpoint_CRF_2/model-350002\n"
     ]
    },
    {
     "name": "stdout",
     "output_type": "stream",
     "text": [
      "411\n",
      "INFO:tensorflow:Restoring parameters from checkpoint_CRF_2/model-350002\n"
     ]
    },
    {
     "name": "stderr",
     "output_type": "stream",
     "text": [
      "INFO:tensorflow:Restoring parameters from checkpoint_CRF_2/model-350002\n"
     ]
    },
    {
     "name": "stdout",
     "output_type": "stream",
     "text": [
      "412\n",
      "INFO:tensorflow:Restoring parameters from checkpoint_CRF_2/model-350002\n"
     ]
    },
    {
     "name": "stderr",
     "output_type": "stream",
     "text": [
      "INFO:tensorflow:Restoring parameters from checkpoint_CRF_2/model-350002\n"
     ]
    },
    {
     "name": "stdout",
     "output_type": "stream",
     "text": [
      "413\n",
      "INFO:tensorflow:Restoring parameters from checkpoint_CRF_2/model-350002\n"
     ]
    },
    {
     "name": "stderr",
     "output_type": "stream",
     "text": [
      "INFO:tensorflow:Restoring parameters from checkpoint_CRF_2/model-350002\n"
     ]
    },
    {
     "name": "stdout",
     "output_type": "stream",
     "text": [
      "414\n",
      "INFO:tensorflow:Restoring parameters from checkpoint_CRF_2/model-350002\n"
     ]
    },
    {
     "name": "stderr",
     "output_type": "stream",
     "text": [
      "INFO:tensorflow:Restoring parameters from checkpoint_CRF_2/model-350002\n"
     ]
    },
    {
     "name": "stdout",
     "output_type": "stream",
     "text": [
      "415\n",
      "INFO:tensorflow:Restoring parameters from checkpoint_CRF_2/model-350002\n"
     ]
    },
    {
     "name": "stderr",
     "output_type": "stream",
     "text": [
      "INFO:tensorflow:Restoring parameters from checkpoint_CRF_2/model-350002\n"
     ]
    },
    {
     "name": "stdout",
     "output_type": "stream",
     "text": [
      "416\n",
      "INFO:tensorflow:Restoring parameters from checkpoint_CRF_2/model-350002\n"
     ]
    },
    {
     "name": "stderr",
     "output_type": "stream",
     "text": [
      "INFO:tensorflow:Restoring parameters from checkpoint_CRF_2/model-350002\n"
     ]
    },
    {
     "name": "stdout",
     "output_type": "stream",
     "text": [
      "417\n",
      "INFO:tensorflow:Restoring parameters from checkpoint_CRF_2/model-350002\n"
     ]
    },
    {
     "name": "stderr",
     "output_type": "stream",
     "text": [
      "INFO:tensorflow:Restoring parameters from checkpoint_CRF_2/model-350002\n"
     ]
    },
    {
     "name": "stdout",
     "output_type": "stream",
     "text": [
      "418\n",
      "INFO:tensorflow:Restoring parameters from checkpoint_CRF_2/model-350002\n"
     ]
    },
    {
     "name": "stderr",
     "output_type": "stream",
     "text": [
      "INFO:tensorflow:Restoring parameters from checkpoint_CRF_2/model-350002\n"
     ]
    },
    {
     "name": "stdout",
     "output_type": "stream",
     "text": [
      "419\n",
      "INFO:tensorflow:Restoring parameters from checkpoint_CRF_2/model-350002\n"
     ]
    },
    {
     "name": "stderr",
     "output_type": "stream",
     "text": [
      "INFO:tensorflow:Restoring parameters from checkpoint_CRF_2/model-350002\n"
     ]
    },
    {
     "name": "stdout",
     "output_type": "stream",
     "text": [
      "420\n",
      "INFO:tensorflow:Restoring parameters from checkpoint_CRF_2/model-350002\n"
     ]
    },
    {
     "name": "stderr",
     "output_type": "stream",
     "text": [
      "INFO:tensorflow:Restoring parameters from checkpoint_CRF_2/model-350002\n"
     ]
    },
    {
     "name": "stdout",
     "output_type": "stream",
     "text": [
      "421\n",
      "INFO:tensorflow:Restoring parameters from checkpoint_CRF_2/model-350002\n"
     ]
    },
    {
     "name": "stderr",
     "output_type": "stream",
     "text": [
      "INFO:tensorflow:Restoring parameters from checkpoint_CRF_2/model-350002\n"
     ]
    },
    {
     "name": "stdout",
     "output_type": "stream",
     "text": [
      "422\n",
      "INFO:tensorflow:Restoring parameters from checkpoint_CRF_2/model-350002\n"
     ]
    },
    {
     "name": "stderr",
     "output_type": "stream",
     "text": [
      "INFO:tensorflow:Restoring parameters from checkpoint_CRF_2/model-350002\n"
     ]
    },
    {
     "name": "stdout",
     "output_type": "stream",
     "text": [
      "423\n",
      "INFO:tensorflow:Restoring parameters from checkpoint_CRF_2/model-350002\n"
     ]
    },
    {
     "name": "stderr",
     "output_type": "stream",
     "text": [
      "INFO:tensorflow:Restoring parameters from checkpoint_CRF_2/model-350002\n"
     ]
    },
    {
     "name": "stdout",
     "output_type": "stream",
     "text": [
      "424\n",
      "INFO:tensorflow:Restoring parameters from checkpoint_CRF_2/model-350002\n"
     ]
    },
    {
     "name": "stderr",
     "output_type": "stream",
     "text": [
      "INFO:tensorflow:Restoring parameters from checkpoint_CRF_2/model-350002\n"
     ]
    },
    {
     "name": "stdout",
     "output_type": "stream",
     "text": [
      "425\n",
      "INFO:tensorflow:Restoring parameters from checkpoint_CRF_2/model-350002\n"
     ]
    },
    {
     "name": "stderr",
     "output_type": "stream",
     "text": [
      "INFO:tensorflow:Restoring parameters from checkpoint_CRF_2/model-350002\n"
     ]
    },
    {
     "name": "stdout",
     "output_type": "stream",
     "text": [
      "426\n",
      "INFO:tensorflow:Restoring parameters from checkpoint_CRF_2/model-350002\n"
     ]
    },
    {
     "name": "stderr",
     "output_type": "stream",
     "text": [
      "INFO:tensorflow:Restoring parameters from checkpoint_CRF_2/model-350002\n"
     ]
    },
    {
     "name": "stdout",
     "output_type": "stream",
     "text": [
      "427\n",
      "INFO:tensorflow:Restoring parameters from checkpoint_CRF_2/model-350002\n"
     ]
    },
    {
     "name": "stderr",
     "output_type": "stream",
     "text": [
      "INFO:tensorflow:Restoring parameters from checkpoint_CRF_2/model-350002\n"
     ]
    },
    {
     "name": "stdout",
     "output_type": "stream",
     "text": [
      "428\n",
      "INFO:tensorflow:Restoring parameters from checkpoint_CRF_2/model-350002\n"
     ]
    },
    {
     "name": "stderr",
     "output_type": "stream",
     "text": [
      "INFO:tensorflow:Restoring parameters from checkpoint_CRF_2/model-350002\n"
     ]
    },
    {
     "name": "stdout",
     "output_type": "stream",
     "text": [
      "429\n",
      "INFO:tensorflow:Restoring parameters from checkpoint_CRF_2/model-350002\n"
     ]
    },
    {
     "name": "stderr",
     "output_type": "stream",
     "text": [
      "INFO:tensorflow:Restoring parameters from checkpoint_CRF_2/model-350002\n"
     ]
    },
    {
     "name": "stdout",
     "output_type": "stream",
     "text": [
      "430\n",
      "INFO:tensorflow:Restoring parameters from checkpoint_CRF_2/model-350002\n"
     ]
    },
    {
     "name": "stderr",
     "output_type": "stream",
     "text": [
      "INFO:tensorflow:Restoring parameters from checkpoint_CRF_2/model-350002\n"
     ]
    },
    {
     "name": "stdout",
     "output_type": "stream",
     "text": [
      "431\n",
      "INFO:tensorflow:Restoring parameters from checkpoint_CRF_2/model-350002\n"
     ]
    },
    {
     "name": "stderr",
     "output_type": "stream",
     "text": [
      "INFO:tensorflow:Restoring parameters from checkpoint_CRF_2/model-350002\n"
     ]
    },
    {
     "name": "stdout",
     "output_type": "stream",
     "text": [
      "432\n",
      "INFO:tensorflow:Restoring parameters from checkpoint_CRF_2/model-350002\n"
     ]
    },
    {
     "name": "stderr",
     "output_type": "stream",
     "text": [
      "INFO:tensorflow:Restoring parameters from checkpoint_CRF_2/model-350002\n"
     ]
    },
    {
     "name": "stdout",
     "output_type": "stream",
     "text": [
      "433\n",
      "INFO:tensorflow:Restoring parameters from checkpoint_CRF_2/model-350002\n"
     ]
    },
    {
     "name": "stderr",
     "output_type": "stream",
     "text": [
      "INFO:tensorflow:Restoring parameters from checkpoint_CRF_2/model-350002\n"
     ]
    },
    {
     "name": "stdout",
     "output_type": "stream",
     "text": [
      "434\n",
      "INFO:tensorflow:Restoring parameters from checkpoint_CRF_2/model-350002\n"
     ]
    },
    {
     "name": "stderr",
     "output_type": "stream",
     "text": [
      "INFO:tensorflow:Restoring parameters from checkpoint_CRF_2/model-350002\n"
     ]
    },
    {
     "name": "stdout",
     "output_type": "stream",
     "text": [
      "435\n",
      "INFO:tensorflow:Restoring parameters from checkpoint_CRF_2/model-350002\n"
     ]
    },
    {
     "name": "stderr",
     "output_type": "stream",
     "text": [
      "INFO:tensorflow:Restoring parameters from checkpoint_CRF_2/model-350002\n"
     ]
    },
    {
     "name": "stdout",
     "output_type": "stream",
     "text": [
      "436\n",
      "INFO:tensorflow:Restoring parameters from checkpoint_CRF_2/model-350002\n"
     ]
    },
    {
     "name": "stderr",
     "output_type": "stream",
     "text": [
      "INFO:tensorflow:Restoring parameters from checkpoint_CRF_2/model-350002\n"
     ]
    },
    {
     "name": "stdout",
     "output_type": "stream",
     "text": [
      "437\n",
      "INFO:tensorflow:Restoring parameters from checkpoint_CRF_2/model-350002\n"
     ]
    },
    {
     "name": "stderr",
     "output_type": "stream",
     "text": [
      "INFO:tensorflow:Restoring parameters from checkpoint_CRF_2/model-350002\n"
     ]
    },
    {
     "name": "stdout",
     "output_type": "stream",
     "text": [
      "438\n",
      "INFO:tensorflow:Restoring parameters from checkpoint_CRF_2/model-350002\n"
     ]
    },
    {
     "name": "stderr",
     "output_type": "stream",
     "text": [
      "INFO:tensorflow:Restoring parameters from checkpoint_CRF_2/model-350002\n"
     ]
    },
    {
     "name": "stdout",
     "output_type": "stream",
     "text": [
      "439\n",
      "INFO:tensorflow:Restoring parameters from checkpoint_CRF_2/model-350002\n"
     ]
    },
    {
     "name": "stderr",
     "output_type": "stream",
     "text": [
      "INFO:tensorflow:Restoring parameters from checkpoint_CRF_2/model-350002\n"
     ]
    },
    {
     "name": "stdout",
     "output_type": "stream",
     "text": [
      "440\n",
      "INFO:tensorflow:Restoring parameters from checkpoint_CRF_2/model-350002\n"
     ]
    },
    {
     "name": "stderr",
     "output_type": "stream",
     "text": [
      "INFO:tensorflow:Restoring parameters from checkpoint_CRF_2/model-350002\n"
     ]
    },
    {
     "name": "stdout",
     "output_type": "stream",
     "text": [
      "441\n",
      "INFO:tensorflow:Restoring parameters from checkpoint_CRF_2/model-350002\n"
     ]
    },
    {
     "name": "stderr",
     "output_type": "stream",
     "text": [
      "INFO:tensorflow:Restoring parameters from checkpoint_CRF_2/model-350002\n"
     ]
    },
    {
     "name": "stdout",
     "output_type": "stream",
     "text": [
      "442\n",
      "INFO:tensorflow:Restoring parameters from checkpoint_CRF_2/model-350002\n"
     ]
    },
    {
     "name": "stderr",
     "output_type": "stream",
     "text": [
      "INFO:tensorflow:Restoring parameters from checkpoint_CRF_2/model-350002\n"
     ]
    },
    {
     "name": "stdout",
     "output_type": "stream",
     "text": [
      "443\n",
      "INFO:tensorflow:Restoring parameters from checkpoint_CRF_2/model-350002\n"
     ]
    },
    {
     "name": "stderr",
     "output_type": "stream",
     "text": [
      "INFO:tensorflow:Restoring parameters from checkpoint_CRF_2/model-350002\n"
     ]
    },
    {
     "name": "stdout",
     "output_type": "stream",
     "text": [
      "444\n",
      "INFO:tensorflow:Restoring parameters from checkpoint_CRF_2/model-350002\n"
     ]
    },
    {
     "name": "stderr",
     "output_type": "stream",
     "text": [
      "INFO:tensorflow:Restoring parameters from checkpoint_CRF_2/model-350002\n"
     ]
    },
    {
     "name": "stdout",
     "output_type": "stream",
     "text": [
      "445\n",
      "INFO:tensorflow:Restoring parameters from checkpoint_CRF_2/model-350002\n"
     ]
    },
    {
     "name": "stderr",
     "output_type": "stream",
     "text": [
      "INFO:tensorflow:Restoring parameters from checkpoint_CRF_2/model-350002\n"
     ]
    },
    {
     "name": "stdout",
     "output_type": "stream",
     "text": [
      "446\n",
      "INFO:tensorflow:Restoring parameters from checkpoint_CRF_2/model-350002\n"
     ]
    },
    {
     "name": "stderr",
     "output_type": "stream",
     "text": [
      "INFO:tensorflow:Restoring parameters from checkpoint_CRF_2/model-350002\n"
     ]
    },
    {
     "name": "stdout",
     "output_type": "stream",
     "text": [
      "447\n",
      "INFO:tensorflow:Restoring parameters from checkpoint_CRF_2/model-350002\n"
     ]
    },
    {
     "name": "stderr",
     "output_type": "stream",
     "text": [
      "INFO:tensorflow:Restoring parameters from checkpoint_CRF_2/model-350002\n"
     ]
    },
    {
     "name": "stdout",
     "output_type": "stream",
     "text": [
      "448\n",
      "INFO:tensorflow:Restoring parameters from checkpoint_CRF_2/model-350002\n"
     ]
    },
    {
     "name": "stderr",
     "output_type": "stream",
     "text": [
      "INFO:tensorflow:Restoring parameters from checkpoint_CRF_2/model-350002\n"
     ]
    },
    {
     "name": "stdout",
     "output_type": "stream",
     "text": [
      "449\n",
      "INFO:tensorflow:Restoring parameters from checkpoint_CRF_2/model-350002\n"
     ]
    },
    {
     "name": "stderr",
     "output_type": "stream",
     "text": [
      "INFO:tensorflow:Restoring parameters from checkpoint_CRF_2/model-350002\n"
     ]
    },
    {
     "name": "stdout",
     "output_type": "stream",
     "text": [
      "450\n",
      "INFO:tensorflow:Restoring parameters from checkpoint_CRF_2/model-350002\n"
     ]
    },
    {
     "name": "stderr",
     "output_type": "stream",
     "text": [
      "INFO:tensorflow:Restoring parameters from checkpoint_CRF_2/model-350002\n"
     ]
    },
    {
     "name": "stdout",
     "output_type": "stream",
     "text": [
      "451\n",
      "INFO:tensorflow:Restoring parameters from checkpoint_CRF_2/model-350002\n"
     ]
    },
    {
     "name": "stderr",
     "output_type": "stream",
     "text": [
      "INFO:tensorflow:Restoring parameters from checkpoint_CRF_2/model-350002\n"
     ]
    },
    {
     "name": "stdout",
     "output_type": "stream",
     "text": [
      "452\n",
      "INFO:tensorflow:Restoring parameters from checkpoint_CRF_2/model-350002\n"
     ]
    },
    {
     "name": "stderr",
     "output_type": "stream",
     "text": [
      "INFO:tensorflow:Restoring parameters from checkpoint_CRF_2/model-350002\n"
     ]
    },
    {
     "name": "stdout",
     "output_type": "stream",
     "text": [
      "453\n",
      "INFO:tensorflow:Restoring parameters from checkpoint_CRF_2/model-350002\n"
     ]
    },
    {
     "name": "stderr",
     "output_type": "stream",
     "text": [
      "INFO:tensorflow:Restoring parameters from checkpoint_CRF_2/model-350002\n"
     ]
    },
    {
     "name": "stdout",
     "output_type": "stream",
     "text": [
      "454\n",
      "INFO:tensorflow:Restoring parameters from checkpoint_CRF_2/model-350002\n"
     ]
    },
    {
     "name": "stderr",
     "output_type": "stream",
     "text": [
      "INFO:tensorflow:Restoring parameters from checkpoint_CRF_2/model-350002\n"
     ]
    },
    {
     "name": "stdout",
     "output_type": "stream",
     "text": [
      "455\n",
      "INFO:tensorflow:Restoring parameters from checkpoint_CRF_2/model-350002\n"
     ]
    },
    {
     "name": "stderr",
     "output_type": "stream",
     "text": [
      "INFO:tensorflow:Restoring parameters from checkpoint_CRF_2/model-350002\n"
     ]
    },
    {
     "name": "stdout",
     "output_type": "stream",
     "text": [
      "456\n",
      "INFO:tensorflow:Restoring parameters from checkpoint_CRF_2/model-350002\n"
     ]
    },
    {
     "name": "stderr",
     "output_type": "stream",
     "text": [
      "INFO:tensorflow:Restoring parameters from checkpoint_CRF_2/model-350002\n"
     ]
    },
    {
     "name": "stdout",
     "output_type": "stream",
     "text": [
      "457\n",
      "INFO:tensorflow:Restoring parameters from checkpoint_CRF_2/model-350002\n"
     ]
    },
    {
     "name": "stderr",
     "output_type": "stream",
     "text": [
      "INFO:tensorflow:Restoring parameters from checkpoint_CRF_2/model-350002\n"
     ]
    },
    {
     "name": "stdout",
     "output_type": "stream",
     "text": [
      "458\n",
      "INFO:tensorflow:Restoring parameters from checkpoint_CRF_2/model-350002\n"
     ]
    },
    {
     "name": "stderr",
     "output_type": "stream",
     "text": [
      "INFO:tensorflow:Restoring parameters from checkpoint_CRF_2/model-350002\n"
     ]
    },
    {
     "name": "stdout",
     "output_type": "stream",
     "text": [
      "459\n",
      "INFO:tensorflow:Restoring parameters from checkpoint_CRF_2/model-350002\n"
     ]
    },
    {
     "name": "stderr",
     "output_type": "stream",
     "text": [
      "INFO:tensorflow:Restoring parameters from checkpoint_CRF_2/model-350002\n"
     ]
    },
    {
     "name": "stdout",
     "output_type": "stream",
     "text": [
      "460\n",
      "INFO:tensorflow:Restoring parameters from checkpoint_CRF_2/model-350002\n"
     ]
    },
    {
     "name": "stderr",
     "output_type": "stream",
     "text": [
      "INFO:tensorflow:Restoring parameters from checkpoint_CRF_2/model-350002\n"
     ]
    },
    {
     "name": "stdout",
     "output_type": "stream",
     "text": [
      "461\n",
      "INFO:tensorflow:Restoring parameters from checkpoint_CRF_2/model-350002\n"
     ]
    },
    {
     "name": "stderr",
     "output_type": "stream",
     "text": [
      "INFO:tensorflow:Restoring parameters from checkpoint_CRF_2/model-350002\n"
     ]
    },
    {
     "name": "stdout",
     "output_type": "stream",
     "text": [
      "462\n",
      "INFO:tensorflow:Restoring parameters from checkpoint_CRF_2/model-350002\n"
     ]
    },
    {
     "name": "stderr",
     "output_type": "stream",
     "text": [
      "INFO:tensorflow:Restoring parameters from checkpoint_CRF_2/model-350002\n"
     ]
    },
    {
     "name": "stdout",
     "output_type": "stream",
     "text": [
      "463\n",
      "INFO:tensorflow:Restoring parameters from checkpoint_CRF_2/model-350002\n"
     ]
    },
    {
     "name": "stderr",
     "output_type": "stream",
     "text": [
      "INFO:tensorflow:Restoring parameters from checkpoint_CRF_2/model-350002\n"
     ]
    },
    {
     "name": "stdout",
     "output_type": "stream",
     "text": [
      "464\n",
      "INFO:tensorflow:Restoring parameters from checkpoint_CRF_2/model-350002\n"
     ]
    },
    {
     "name": "stderr",
     "output_type": "stream",
     "text": [
      "INFO:tensorflow:Restoring parameters from checkpoint_CRF_2/model-350002\n"
     ]
    },
    {
     "name": "stdout",
     "output_type": "stream",
     "text": [
      "465\n",
      "INFO:tensorflow:Restoring parameters from checkpoint_CRF_2/model-350002\n"
     ]
    },
    {
     "name": "stderr",
     "output_type": "stream",
     "text": [
      "INFO:tensorflow:Restoring parameters from checkpoint_CRF_2/model-350002\n"
     ]
    },
    {
     "name": "stdout",
     "output_type": "stream",
     "text": [
      "466\n",
      "INFO:tensorflow:Restoring parameters from checkpoint_CRF_2/model-350002\n"
     ]
    },
    {
     "name": "stderr",
     "output_type": "stream",
     "text": [
      "INFO:tensorflow:Restoring parameters from checkpoint_CRF_2/model-350002\n"
     ]
    },
    {
     "name": "stdout",
     "output_type": "stream",
     "text": [
      "467\n",
      "INFO:tensorflow:Restoring parameters from checkpoint_CRF_2/model-350002\n"
     ]
    },
    {
     "name": "stderr",
     "output_type": "stream",
     "text": [
      "INFO:tensorflow:Restoring parameters from checkpoint_CRF_2/model-350002\n"
     ]
    },
    {
     "name": "stdout",
     "output_type": "stream",
     "text": [
      "468\n",
      "INFO:tensorflow:Restoring parameters from checkpoint_CRF_2/model-350002\n"
     ]
    },
    {
     "name": "stderr",
     "output_type": "stream",
     "text": [
      "INFO:tensorflow:Restoring parameters from checkpoint_CRF_2/model-350002\n"
     ]
    },
    {
     "name": "stdout",
     "output_type": "stream",
     "text": [
      "469\n",
      "INFO:tensorflow:Restoring parameters from checkpoint_CRF_2/model-350002\n"
     ]
    },
    {
     "name": "stderr",
     "output_type": "stream",
     "text": [
      "INFO:tensorflow:Restoring parameters from checkpoint_CRF_2/model-350002\n"
     ]
    },
    {
     "name": "stdout",
     "output_type": "stream",
     "text": [
      "470\n",
      "INFO:tensorflow:Restoring parameters from checkpoint_CRF_2/model-350002\n"
     ]
    },
    {
     "name": "stderr",
     "output_type": "stream",
     "text": [
      "INFO:tensorflow:Restoring parameters from checkpoint_CRF_2/model-350002\n"
     ]
    },
    {
     "name": "stdout",
     "output_type": "stream",
     "text": [
      "471\n",
      "INFO:tensorflow:Restoring parameters from checkpoint_CRF_2/model-350002\n"
     ]
    },
    {
     "name": "stderr",
     "output_type": "stream",
     "text": [
      "INFO:tensorflow:Restoring parameters from checkpoint_CRF_2/model-350002\n"
     ]
    },
    {
     "name": "stdout",
     "output_type": "stream",
     "text": [
      "472\n",
      "INFO:tensorflow:Restoring parameters from checkpoint_CRF_2/model-350002\n"
     ]
    },
    {
     "name": "stderr",
     "output_type": "stream",
     "text": [
      "INFO:tensorflow:Restoring parameters from checkpoint_CRF_2/model-350002\n"
     ]
    },
    {
     "name": "stdout",
     "output_type": "stream",
     "text": [
      "473\n",
      "INFO:tensorflow:Restoring parameters from checkpoint_CRF_2/model-350002\n"
     ]
    },
    {
     "name": "stderr",
     "output_type": "stream",
     "text": [
      "INFO:tensorflow:Restoring parameters from checkpoint_CRF_2/model-350002\n"
     ]
    },
    {
     "name": "stdout",
     "output_type": "stream",
     "text": [
      "474\n",
      "INFO:tensorflow:Restoring parameters from checkpoint_CRF_2/model-350002\n"
     ]
    },
    {
     "name": "stderr",
     "output_type": "stream",
     "text": [
      "INFO:tensorflow:Restoring parameters from checkpoint_CRF_2/model-350002\n"
     ]
    },
    {
     "name": "stdout",
     "output_type": "stream",
     "text": [
      "475\n",
      "INFO:tensorflow:Restoring parameters from checkpoint_CRF_2/model-350002\n"
     ]
    },
    {
     "name": "stderr",
     "output_type": "stream",
     "text": [
      "INFO:tensorflow:Restoring parameters from checkpoint_CRF_2/model-350002\n"
     ]
    },
    {
     "name": "stdout",
     "output_type": "stream",
     "text": [
      "476\n",
      "INFO:tensorflow:Restoring parameters from checkpoint_CRF_2/model-350002\n"
     ]
    },
    {
     "name": "stderr",
     "output_type": "stream",
     "text": [
      "INFO:tensorflow:Restoring parameters from checkpoint_CRF_2/model-350002\n"
     ]
    },
    {
     "name": "stdout",
     "output_type": "stream",
     "text": [
      "477\n",
      "INFO:tensorflow:Restoring parameters from checkpoint_CRF_2/model-350002\n"
     ]
    },
    {
     "name": "stderr",
     "output_type": "stream",
     "text": [
      "INFO:tensorflow:Restoring parameters from checkpoint_CRF_2/model-350002\n"
     ]
    },
    {
     "name": "stdout",
     "output_type": "stream",
     "text": [
      "478\n",
      "INFO:tensorflow:Restoring parameters from checkpoint_CRF_2/model-350002\n"
     ]
    },
    {
     "name": "stderr",
     "output_type": "stream",
     "text": [
      "INFO:tensorflow:Restoring parameters from checkpoint_CRF_2/model-350002\n"
     ]
    },
    {
     "name": "stdout",
     "output_type": "stream",
     "text": [
      "479\n",
      "INFO:tensorflow:Restoring parameters from checkpoint_CRF_2/model-350002\n"
     ]
    },
    {
     "name": "stderr",
     "output_type": "stream",
     "text": [
      "INFO:tensorflow:Restoring parameters from checkpoint_CRF_2/model-350002\n"
     ]
    },
    {
     "name": "stdout",
     "output_type": "stream",
     "text": [
      "480\n",
      "INFO:tensorflow:Restoring parameters from checkpoint_CRF_2/model-350002\n"
     ]
    },
    {
     "name": "stderr",
     "output_type": "stream",
     "text": [
      "INFO:tensorflow:Restoring parameters from checkpoint_CRF_2/model-350002\n"
     ]
    },
    {
     "name": "stdout",
     "output_type": "stream",
     "text": [
      "481\n",
      "INFO:tensorflow:Restoring parameters from checkpoint_CRF_2/model-350002\n"
     ]
    },
    {
     "name": "stderr",
     "output_type": "stream",
     "text": [
      "INFO:tensorflow:Restoring parameters from checkpoint_CRF_2/model-350002\n"
     ]
    },
    {
     "name": "stdout",
     "output_type": "stream",
     "text": [
      "482\n",
      "INFO:tensorflow:Restoring parameters from checkpoint_CRF_2/model-350002\n"
     ]
    },
    {
     "name": "stderr",
     "output_type": "stream",
     "text": [
      "INFO:tensorflow:Restoring parameters from checkpoint_CRF_2/model-350002\n"
     ]
    },
    {
     "name": "stdout",
     "output_type": "stream",
     "text": [
      "483\n",
      "INFO:tensorflow:Restoring parameters from checkpoint_CRF_2/model-350002\n"
     ]
    },
    {
     "name": "stderr",
     "output_type": "stream",
     "text": [
      "INFO:tensorflow:Restoring parameters from checkpoint_CRF_2/model-350002\n"
     ]
    },
    {
     "name": "stdout",
     "output_type": "stream",
     "text": [
      "484\n",
      "INFO:tensorflow:Restoring parameters from checkpoint_CRF_2/model-350002\n"
     ]
    },
    {
     "name": "stderr",
     "output_type": "stream",
     "text": [
      "INFO:tensorflow:Restoring parameters from checkpoint_CRF_2/model-350002\n"
     ]
    },
    {
     "name": "stdout",
     "output_type": "stream",
     "text": [
      "485\n",
      "INFO:tensorflow:Restoring parameters from checkpoint_CRF_2/model-350002\n"
     ]
    },
    {
     "name": "stderr",
     "output_type": "stream",
     "text": [
      "INFO:tensorflow:Restoring parameters from checkpoint_CRF_2/model-350002\n"
     ]
    },
    {
     "name": "stdout",
     "output_type": "stream",
     "text": [
      "486\n",
      "INFO:tensorflow:Restoring parameters from checkpoint_CRF_2/model-350002\n"
     ]
    },
    {
     "name": "stderr",
     "output_type": "stream",
     "text": [
      "INFO:tensorflow:Restoring parameters from checkpoint_CRF_2/model-350002\n"
     ]
    },
    {
     "name": "stdout",
     "output_type": "stream",
     "text": [
      "487\n",
      "INFO:tensorflow:Restoring parameters from checkpoint_CRF_2/model-350002\n"
     ]
    },
    {
     "name": "stderr",
     "output_type": "stream",
     "text": [
      "INFO:tensorflow:Restoring parameters from checkpoint_CRF_2/model-350002\n"
     ]
    },
    {
     "name": "stdout",
     "output_type": "stream",
     "text": [
      "488\n",
      "INFO:tensorflow:Restoring parameters from checkpoint_CRF_2/model-350002\n"
     ]
    },
    {
     "name": "stderr",
     "output_type": "stream",
     "text": [
      "INFO:tensorflow:Restoring parameters from checkpoint_CRF_2/model-350002\n"
     ]
    },
    {
     "name": "stdout",
     "output_type": "stream",
     "text": [
      "489\n",
      "INFO:tensorflow:Restoring parameters from checkpoint_CRF_2/model-350002\n"
     ]
    },
    {
     "name": "stderr",
     "output_type": "stream",
     "text": [
      "INFO:tensorflow:Restoring parameters from checkpoint_CRF_2/model-350002\n"
     ]
    },
    {
     "name": "stdout",
     "output_type": "stream",
     "text": [
      "490\n",
      "INFO:tensorflow:Restoring parameters from checkpoint_CRF_2/model-350002\n"
     ]
    },
    {
     "name": "stderr",
     "output_type": "stream",
     "text": [
      "INFO:tensorflow:Restoring parameters from checkpoint_CRF_2/model-350002\n"
     ]
    },
    {
     "name": "stdout",
     "output_type": "stream",
     "text": [
      "491\n",
      "INFO:tensorflow:Restoring parameters from checkpoint_CRF_2/model-350002\n"
     ]
    },
    {
     "name": "stderr",
     "output_type": "stream",
     "text": [
      "INFO:tensorflow:Restoring parameters from checkpoint_CRF_2/model-350002\n"
     ]
    },
    {
     "name": "stdout",
     "output_type": "stream",
     "text": [
      "492\n",
      "INFO:tensorflow:Restoring parameters from checkpoint_CRF_2/model-350002\n"
     ]
    },
    {
     "name": "stderr",
     "output_type": "stream",
     "text": [
      "INFO:tensorflow:Restoring parameters from checkpoint_CRF_2/model-350002\n"
     ]
    },
    {
     "name": "stdout",
     "output_type": "stream",
     "text": [
      "493\n",
      "INFO:tensorflow:Restoring parameters from checkpoint_CRF_2/model-350002\n"
     ]
    },
    {
     "name": "stderr",
     "output_type": "stream",
     "text": [
      "INFO:tensorflow:Restoring parameters from checkpoint_CRF_2/model-350002\n"
     ]
    },
    {
     "name": "stdout",
     "output_type": "stream",
     "text": [
      "494\n",
      "INFO:tensorflow:Restoring parameters from checkpoint_CRF_2/model-350002\n"
     ]
    },
    {
     "name": "stderr",
     "output_type": "stream",
     "text": [
      "INFO:tensorflow:Restoring parameters from checkpoint_CRF_2/model-350002\n"
     ]
    },
    {
     "name": "stdout",
     "output_type": "stream",
     "text": [
      "495\n",
      "INFO:tensorflow:Restoring parameters from checkpoint_CRF_2/model-350002\n"
     ]
    },
    {
     "name": "stderr",
     "output_type": "stream",
     "text": [
      "INFO:tensorflow:Restoring parameters from checkpoint_CRF_2/model-350002\n"
     ]
    },
    {
     "name": "stdout",
     "output_type": "stream",
     "text": [
      "496\n",
      "INFO:tensorflow:Restoring parameters from checkpoint_CRF_2/model-350002\n"
     ]
    },
    {
     "name": "stderr",
     "output_type": "stream",
     "text": [
      "INFO:tensorflow:Restoring parameters from checkpoint_CRF_2/model-350002\n"
     ]
    },
    {
     "name": "stdout",
     "output_type": "stream",
     "text": [
      "497\n",
      "INFO:tensorflow:Restoring parameters from checkpoint_CRF_2/model-350002\n"
     ]
    },
    {
     "name": "stderr",
     "output_type": "stream",
     "text": [
      "INFO:tensorflow:Restoring parameters from checkpoint_CRF_2/model-350002\n"
     ]
    },
    {
     "name": "stdout",
     "output_type": "stream",
     "text": [
      "498\n",
      "INFO:tensorflow:Restoring parameters from checkpoint_CRF_2/model-350002\n"
     ]
    },
    {
     "name": "stderr",
     "output_type": "stream",
     "text": [
      "INFO:tensorflow:Restoring parameters from checkpoint_CRF_2/model-350002\n"
     ]
    },
    {
     "name": "stdout",
     "output_type": "stream",
     "text": [
      "499\n",
      "INFO:tensorflow:Restoring parameters from checkpoint_CRF_2/model-350002\n"
     ]
    },
    {
     "name": "stderr",
     "output_type": "stream",
     "text": [
      "INFO:tensorflow:Restoring parameters from checkpoint_CRF_2/model-350002\n"
     ]
    },
    {
     "name": "stdout",
     "output_type": "stream",
     "text": [
      "500\n",
      "test MAE1: 8.793, test MAE2: 8.721\n"
     ]
    }
   ],
   "source": [
    "from module import SRGAN_g_CRF_2\n",
    "\n",
    "temp=sio.loadmat('../data/weight_matrix.mat')\n",
    "weight_matrix=temp['weight_matrix']\n",
    "\n",
    "iteration=2\n",
    "test_total_mae1=0.0\n",
    "test_total_mae2=0.0\n",
    "\n",
    "for i in range(401,500+1):\n",
    "    im = scipy.misc.imread('../data/origin_images/%.4d.png' % (i))\n",
    "    im = np.float32(im)\n",
    "    batch_images=[im]  \n",
    "\n",
    "    tf.reset_default_graph()\n",
    "    tl.layers.clear_layers_name()\n",
    "    test_x = tf.placeholder(tf.float32, shape=[1, im.shape[0], im.shape[1], im.shape[2]], name=\"test_X\")\n",
    "    test_x_scale=test_x/127.5-1\n",
    "    srgan_output,crf_output,srgan_saver  = SRGAN_g_CRF_2(test_x_scale,is_train= False, reuse=False)    \n",
    "    sess=tf.Session()\n",
    "    saver = tf.train.Saver()\n",
    "    saver.restore(sess, 'checkpoint_CRF_2/model-%d' % (iteration))\n",
    "\n",
    "    [srgan_eval, crf_eval]= sess.run([srgan_output,crf_output],feed_dict={test_x: batch_images}) \n",
    "\n",
    "    im_out1=(np.float64(srgan_eval[0])+1)/2*255\n",
    "    im_out1[im_out1>255]=255\n",
    "    im_out1[im_out1<0]=0\n",
    "    im_out2=(np.float64(crf_eval[0])+1)/2*255\n",
    "    im_out2[im_out2>255]=255\n",
    "    im_out2[im_out2<0]=0\n",
    "    \n",
    "    im_groundtruth1 = scipy.misc.imread('../data/gt_images/%.4d_1.png' % (i))\n",
    "    im_groundtruth1 = np.float64(im_groundtruth1)\n",
    "    im_groundtruth2 = scipy.misc.imread('../data/gt_images/%.4d_2.png' % (i))\n",
    "    im_groundtruth2 = np.float64(im_groundtruth2)\n",
    "    im_groundtruth3 = scipy.misc.imread('../data/gt_images/%.4d_3.png' % (i))\n",
    "    im_groundtruth3 = np.float64(im_groundtruth3)\n",
    "    im_groundtruth4 = scipy.misc.imread('../data/gt_images/%.4d_4.png' % (i))\n",
    "    im_groundtruth4 = np.float64(im_groundtruth4)\n",
    "    im_groundtruth5 = scipy.misc.imread('../data/gt_images/%.4d_5.png' % (i))\n",
    "    im_groundtruth5 = np.float64(im_groundtruth5)\n",
    "    \n",
    "    image_mae = np.mean(np.abs(im_out1-im_groundtruth1))*weight_matrix[i-1,0] \\\n",
    "                +np.mean(np.abs(im_out1-im_groundtruth2))*weight_matrix[i-1,1] \\\n",
    "                +np.mean(np.abs(im_out1-im_groundtruth3))*weight_matrix[i-1,2] \\\n",
    "                +np.mean(np.abs(im_out1-im_groundtruth4))*weight_matrix[i-1,3] \\\n",
    "                +np.mean(np.abs(im_out1-im_groundtruth5))*weight_matrix[i-1,4] \n",
    "    test_total_mae1=test_total_mae1 + image_mae\n",
    "    \n",
    "    image_mae = np.mean(np.abs(im_out2-im_groundtruth1))*weight_matrix[i-1,0] \\\n",
    "                +np.mean(np.abs(im_out2-im_groundtruth2))*weight_matrix[i-1,1] \\\n",
    "                +np.mean(np.abs(im_out2-im_groundtruth3))*weight_matrix[i-1,2] \\\n",
    "                +np.mean(np.abs(im_out2-im_groundtruth4))*weight_matrix[i-1,3] \\\n",
    "                +np.mean(np.abs(im_out2-im_groundtruth5))*weight_matrix[i-1,4] \n",
    "    test_total_mae2=test_total_mae2 + image_mae\n",
    "    if np.mod(i,100) ==1:\n",
    "        path='%s/%.7d_%.4d.png' % (\"sample_CRF_2\",iteration,i)\n",
    "        im_out=np.concatenate((im_groundtruth1,im_out1,im_out2),axis=1)\n",
    "        scipy.misc.imsave(path,im_out)\n",
    "    print i\n",
    "print 'test MAE1: %.3f, test MAE2: %.3f' % (test_total_mae1/100,test_total_mae2/100)\n"
   ]
  },
  {
   "cell_type": "code",
   "execution_count": null,
   "metadata": {
    "collapsed": true
   },
   "outputs": [],
   "source": []
  },
  {
   "cell_type": "code",
   "execution_count": 3,
   "metadata": {
    "collapsed": false
   },
   "outputs": [],
   "source": [
    "from module import SRGAN_g_CRF_2\n",
    "\n",
    "temp=sio.loadmat('../data/weight_matrix.mat')\n",
    "weight_matrix=temp['weight_matrix']\n",
    "\n",
    "iteration=350002\n",
    "test_total_mae1=0.0\n",
    "test_total_mae2=0.0\n",
    "\n",
    "for i in range(401,401+1):\n",
    "    im = scipy.misc.imread('../data/origin_images/%.4d.png' % (i))\n",
    "    im = np.float32(im)\n",
    "    batch_images=[im]  \n",
    "\n",
    "    tf.reset_default_graph()\n",
    "    tl.layers.clear_layers_name()\n",
    "    test_x = tf.placeholder(tf.float32, shape=[1, im.shape[0], im.shape[1], im.shape[2]], name=\"test_X\")\n",
    "    test_x_scale=test_x/127.5-1\n",
    "    srgan_output,crf_output,srgan_saver  = SRGAN_g_CRF_2(test_x_scale,is_train= False, reuse=False)    \n",
    "    sess=tf.Session()\n",
    "    saver = tf.train.Saver()\n",
    "   "
   ]
  },
  {
   "cell_type": "code",
   "execution_count": 4,
   "metadata": {
    "collapsed": false
   },
   "outputs": [
    {
     "name": "stdout",
     "output_type": "stream",
     "text": [
      "SRGAN_g/n64s1/c/W_conv2d:0\n",
      "SRGAN_g/n64s1/c/b_conv2d:0\n",
      "SRGAN_g/n64s1/c1/0/W_conv2d:0\n",
      "SRGAN_g/n64s1/c2/0/W_conv2d:0\n",
      "SRGAN_g/n64s1/c1/1/W_conv2d:0\n",
      "SRGAN_g/n64s1/c2/1/W_conv2d:0\n",
      "SRGAN_g/n64s1/c1/2/W_conv2d:0\n",
      "SRGAN_g/n64s1/c2/2/W_conv2d:0\n",
      "SRGAN_g/n64s1/c1/3/W_conv2d:0\n",
      "SRGAN_g/n64s1/c2/3/W_conv2d:0\n",
      "SRGAN_g/n64s1/c1/4/W_conv2d:0\n",
      "SRGAN_g/n64s1/c2/4/W_conv2d:0\n",
      "SRGAN_g/n64s1/c1/5/W_conv2d:0\n",
      "SRGAN_g/n64s1/c2/5/W_conv2d:0\n",
      "SRGAN_g/n64s1/c1/6/W_conv2d:0\n",
      "SRGAN_g/n64s1/c2/6/W_conv2d:0\n",
      "SRGAN_g/n64s1/c1/7/W_conv2d:0\n",
      "SRGAN_g/n64s1/c2/7/W_conv2d:0\n",
      "SRGAN_g/n64s1/c1/8/W_conv2d:0\n",
      "SRGAN_g/n64s1/c2/8/W_conv2d:0\n",
      "SRGAN_g/n64s1/c1/9/W_conv2d:0\n",
      "SRGAN_g/n64s1/c2/9/W_conv2d:0\n",
      "SRGAN_g/n64s1/c1/10/W_conv2d:0\n",
      "SRGAN_g/n64s1/c2/10/W_conv2d:0\n",
      "SRGAN_g/n64s1/c1/11/W_conv2d:0\n",
      "SRGAN_g/n64s1/c2/11/W_conv2d:0\n",
      "SRGAN_g/n64s1/c1/12/W_conv2d:0\n",
      "SRGAN_g/n64s1/c2/12/W_conv2d:0\n",
      "SRGAN_g/n64s1/c1/13/W_conv2d:0\n",
      "SRGAN_g/n64s1/c2/13/W_conv2d:0\n",
      "SRGAN_g/n64s1/c1/14/W_conv2d:0\n",
      "SRGAN_g/n64s1/c2/14/W_conv2d:0\n",
      "SRGAN_g/n64s1/c1/15/W_conv2d:0\n",
      "SRGAN_g/n64s1/c2/15/W_conv2d:0\n",
      "SRGAN_g/n64s1/c/m/W_conv2d:0\n",
      "SRGAN_g/n256s1/1/W_conv2d:0\n",
      "SRGAN_g/n256s1/1/b_conv2d:0\n",
      "SRGAN_g/n256s1/2/W_conv2d:0\n",
      "SRGAN_g/n256s1/2/b_conv2d:0\n",
      "SRGAN_g/out/W_conv2d:0\n",
      "SRGAN_g/out/b_conv2d:0\n",
      "SRGAN_g/crfrnn/spatial_ker_weights:0\n",
      "SRGAN_g/crfrnn/bilateral_ker_weights:0\n",
      "SRGAN_g/crfrnn/compatibility_matrix:0\n"
     ]
    }
   ],
   "source": [
    "t_vars=tf.trainable_variables()\n",
    "for var in t_vars:\n",
    "    print var.name"
   ]
  },
  {
   "cell_type": "code",
   "execution_count": null,
   "metadata": {
    "collapsed": true
   },
   "outputs": [],
   "source": []
  },
  {
   "cell_type": "code",
   "execution_count": null,
   "metadata": {
    "collapsed": true
   },
   "outputs": [],
   "source": []
  },
  {
   "cell_type": "code",
   "execution_count": null,
   "metadata": {
    "collapsed": true
   },
   "outputs": [],
   "source": []
  },
  {
   "cell_type": "code",
   "execution_count": null,
   "metadata": {
    "collapsed": true
   },
   "outputs": [],
   "source": []
  }
 ],
 "metadata": {
  "kernelspec": {
   "display_name": "Python 2",
   "language": "python",
   "name": "python2"
  },
  "language_info": {
   "codemirror_mode": {
    "name": "ipython",
    "version": 2
   },
   "file_extension": ".py",
   "mimetype": "text/x-python",
   "name": "python",
   "nbconvert_exporter": "python",
   "pygments_lexer": "ipython2",
   "version": "2.7.8"
  }
 },
 "nbformat": 4,
 "nbformat_minor": 0
}
